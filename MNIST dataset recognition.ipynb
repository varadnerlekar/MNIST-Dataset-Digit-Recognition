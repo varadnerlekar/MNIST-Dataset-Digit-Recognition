{
  "nbformat": 4,
  "nbformat_minor": 0,
  "metadata": {
    "colab": {
      "name": "Untitled2.ipynb",
      "provenance": []
    },
    "kernelspec": {
      "name": "python3",
      "display_name": "Python 3"
    }
  },
  "cells": [
    {
      "cell_type": "markdown",
      "metadata": {
        "id": "5Es8ESDIxu5y"
      },
      "source": [
        "# AI Mini-Project\n",
        "\n",
        "\n",
        "Name: **Varad Nerlekar**\n",
        "\n",
        "PRN: **18070123085**"
      ]
    },
    {
      "cell_type": "markdown",
      "metadata": {
        "id": "9rkjWd9_y3W7"
      },
      "source": [
        "**Title:** Handwritten Text Classifier using CNN\n",
        "\n",
        "**Dataset:** MNIST Dataset\n",
        "\n",
        "**Link:** http://yann.lecun.com/exdb/mnist/\n",
        "\n",
        "(Note: We are loading this dataset directly in the python file through keras)\n",
        "\n",
        "**Description:** \n",
        "The MNIST database of handwritten digits has a training set of 60000 examples, and a test set of 10000 examples. It is a subset of a larger set available from NIST. The digits have been size-normalized and centered in a fixed-size image i.e 28x28 pixels for easier model training."
      ]
    },
    {
      "cell_type": "markdown",
      "metadata": {
        "id": "v4kc7naB1ChB"
      },
      "source": [
        "**Part 1:** Importing Libraries"
      ]
    },
    {
      "cell_type": "code",
      "metadata": {
        "id": "7ll16yn8xs57"
      },
      "source": [
        "# Optional:\n",
        "# !pip install tensorflow\n",
        "\n",
        "import tensorflow as tf\n",
        "import matplotlib.pyplot as plt\n",
        "import numpy as np"
      ],
      "execution_count": 1,
      "outputs": []
    },
    {
      "cell_type": "markdown",
      "metadata": {
        "id": "T_sb9ReI2NQt"
      },
      "source": [
        "**Part 2:** Loading the dataset"
      ]
    },
    {
      "cell_type": "code",
      "metadata": {
        "id": "O74kcxBS2Ljh"
      },
      "source": [
        "data = tf.keras.datasets.mnist"
      ],
      "execution_count": 2,
      "outputs": []
    },
    {
      "cell_type": "code",
      "metadata": {
        "id": "z6FC2e_M2Xy2"
      },
      "source": [
        "(x_train, y_train), (x_test, y_test) = data.load_data()"
      ],
      "execution_count": 3,
      "outputs": []
    },
    {
      "cell_type": "markdown",
      "metadata": {
        "id": "6q9M8fKk2WzJ"
      },
      "source": [
        "**Part 3:** Checking how the dataset looks like"
      ]
    },
    {
      "cell_type": "code",
      "metadata": {
        "id": "5DH4Kqu32ru6",
        "outputId": "1966fd92-1744-4085-b59e-73c3291ff720",
        "colab": {
          "base_uri": "https://localhost:8080/",
          "height": 265
        }
      },
      "source": [
        "# Checking one of the entries in the dataset\n",
        "\n",
        "plt.imshow(x_train[23085], cmap=plt.cm.binary)\n",
        "plt.show()"
      ],
      "execution_count": 4,
      "outputs": [
        {
          "output_type": "display_data",
          "data": {
            "image/png": "[encoded data removed]",
            "text/plain": [
              "<Figure size 432x288 with 1 Axes>"
            ]
          },
          "metadata": {
            "tags": [],
            "needs_background": "light"
          }
        }
      ]
    },
    {
      "cell_type": "code",
      "metadata": {
        "id": "4GdAGrzL3Y-e",
        "outputId": "b20c20d2-5450-4caf-cb40-d13429821be2",
        "colab": {
          "base_uri": "https://localhost:8080/"
        }
      },
      "source": [
        "x_train[23085]"
      ],
      "execution_count": 5,
      "outputs": [
        {
          "output_type": "execute_result",
          "data": {
            "text/plain": [
              "array([[  0,   0,   0,   0,   0,   0,   0,   0,   0,   0,   0,   0,   0,\n",
              "          0,   0,   0,   0,   0,   0,   0,   0,   0,   0,   0,   0,   0,\n",
              "          0,   0],\n",
              "       [  0,   0,   0,   0,   0,   0,   0,   0,   0,   0,   0,   0,   0,\n",
              "          0,   0,   0,   0,   0,   0,   0,   0,   0,   0,   0,   0,   0,\n",
              "          0,   0],\n",
              "       [  0,   0,   0,   0,   0,   0,   0,   0,   0,   0,   0,   0,   0,\n",
              "          0,   0,   0,   0,   0,   0,   0,   0,   0,   0,   0,   0,   0,\n",
              "          0,   0],\n",
              "       [  0,   0,   0,   0,   0,   0,   0,   0,   0,   0,   0,   0,   0,\n",
              "          0,   0,   0,   0,   0,   0,   0,   0,   0,   0,   0,   0,   0,\n",
              "          0,   0],\n",
              "       [  0,   0,   0,   0,   0,   0,   0,   0,   0,   0,   0,   0,   0,\n",
              "          0,   0,   0,   0,   0,   0,   0,   0,   0,   0,   0,   0,   0,\n",
              "          0,   0],\n",
              "       [  0,   0,   0,   0,   0,   0,   0,   0,   0,   0,   0,   0,   0,\n",
              "        249, 255, 185,   0,   0,   0,   0,   0,   0,   0,   0,   0,   0,\n",
              "          0,   0],\n",
              "       [  0,   0,   0,   0,   0,   0,   0,   0,   0,   0,   0,   0,  50,\n",
              "        250, 253, 184,   0,   0,   0,   0,   0,   0, 110, 136,  37,   0,\n",
              "          0,   0],\n",
              "       [  0,   0,   0,   0,   0,   0,   0,   0,   0,   0,   0,   5, 167,\n",
              "        253, 253, 184,   0,   0,   0,   0,  31, 195, 245, 253, 170,   0,\n",
              "          0,   0],\n",
              "       [  0,   0,   0,   0,   0,   0,   0,   0,   0,   0,   8, 140, 253,\n",
              "        253, 234,  70,   0,   0,   0,   0, 133, 253, 253, 214,  75,   0,\n",
              "          0,   0],\n",
              "       [  0,   0,   0,   0,   0,   0,   0,   0,   0,   8, 139, 253, 253,\n",
              "        253, 145,   0,   0,   0,   0,  85, 249, 253, 211,  24,   0,   0,\n",
              "          0,   0],\n",
              "       [  0,   0,   0,   0,   0,   0,   0,   0,   0,  63, 253, 253, 253,\n",
              "        180,  11,   0,   0,   0,  12, 201, 253, 253, 110,   0,   0,   0,\n",
              "          0,   0],\n",
              "       [  0,   0,   0,   0,   0,   0,   0,   0, 111, 224, 253, 253, 253,\n",
              "          6,   0,   0,   0,  15, 200, 253, 253, 210,  27,   0,   0,   0,\n",
              "          0,   0],\n",
              "       [  0,   0,   0,   0,   0,   0,   0,  42, 231, 253, 253, 187,  73,\n",
              "          1,   0,   0,   0,  28, 253, 253, 253,  37,   0,   0,   0,   0,\n",
              "          0,   0],\n",
              "       [  0,   0,   0,   0,   0,   0,   0, 145, 253, 253, 253, 155,  90,\n",
              "        224, 178, 128, 227, 230, 253, 253, 253,  34,   0,   0,   0,   0,\n",
              "          0,   0],\n",
              "       [  0,   0,   0,   0,   0,   0,  96, 250, 253, 253, 253, 253, 253,\n",
              "        253, 253, 253, 253, 253, 253, 253, 253,  71,   0,   0,   0,   0,\n",
              "          0,   0],\n",
              "       [  0,   0,   0,   0,   0,   0, 118, 253, 253, 253, 253, 253, 253,\n",
              "        253, 253, 253, 253, 253, 253, 253, 253, 144,   0,   0,   0,   0,\n",
              "          0,   0],\n",
              "       [  0,   0,   0,   0,   0,   0, 118, 253, 253, 253, 253, 237, 226,\n",
              "        226, 103, 223, 253, 253, 252, 226, 226,  30,   0,   0,   0,   0,\n",
              "          0,   0],\n",
              "       [  0,   0,   0,   0,   0,   0,  51, 109, 109, 109, 109,  44,   0,\n",
              "          0,  52, 233, 253, 237, 106,   0,   0,   0,   0,   0,   0,   0,\n",
              "          0,   0],\n",
              "       [  0,   0,   0,   0,   0,   0,   0,   0,   0,   0,   0,   0,   0,\n",
              "          0, 157, 253, 253, 226,   0,   0,   0,   0,   0,   0,   0,   0,\n",
              "          0,   0],\n",
              "       [  0,   0,   0,   0,   0,   0,   0,   0,   0,   0,   0,   0,   0,\n",
              "         45, 238, 253, 253,  95,   0,   0,   0,   0,   0,   0,   0,   0,\n",
              "          0,   0],\n",
              "       [  0,   0,   0,   0,   0,   0,   0,   0,   0,   0,   0,   0,   0,\n",
              "        230, 253, 253, 166,  12,   0,   0,   0,   0,   0,   0,   0,   0,\n",
              "          0,   0],\n",
              "       [  0,   0,   0,   0,   0,   0,   0,   0,   0,   0,   0,   0, 104,\n",
              "        252, 253, 236,  52,   0,   0,   0,   0,   0,   0,   0,   0,   0,\n",
              "          0,   0],\n",
              "       [  0,   0,   0,   0,   0,   0,   0,   0,   0,   0,   0, 108, 217,\n",
              "        253, 239,  80,   0,   0,   0,   0,   0,   0,   0,   0,   0,   0,\n",
              "          0,   0],\n",
              "       [  0,   0,   0,   0,   0,   0,   0,   0,   0,   0,  22, 215, 253,\n",
              "        253, 152,   0,   0,   0,   0,   0,   0,   0,   0,   0,   0,   0,\n",
              "          0,   0],\n",
              "       [  0,   0,   0,   0,   0,   0,   0,   0,   0,   0,  35, 253, 253,\n",
              "        253,  27,   0,   0,   0,   0,   0,   0,   0,   0,   0,   0,   0,\n",
              "          0,   0],\n",
              "       [  0,   0,   0,   0,   0,   0,   0,   0,   0,   0,   0,   0,   0,\n",
              "          0,   0,   0,   0,   0,   0,   0,   0,   0,   0,   0,   0,   0,\n",
              "          0,   0],\n",
              "       [  0,   0,   0,   0,   0,   0,   0,   0,   0,   0,   0,   0,   0,\n",
              "          0,   0,   0,   0,   0,   0,   0,   0,   0,   0,   0,   0,   0,\n",
              "          0,   0],\n",
              "       [  0,   0,   0,   0,   0,   0,   0,   0,   0,   0,   0,   0,   0,\n",
              "          0,   0,   0,   0,   0,   0,   0,   0,   0,   0,   0,   0,   0,\n",
              "          0,   0]], dtype=uint8)"
            ]
          },
          "metadata": {
            "tags": []
          },
          "execution_count": 5
        }
      ]
    },
    {
      "cell_type": "markdown",
      "metadata": {
        "id": "FDTAZ6se3wez"
      },
      "source": [
        "The data varies on a scale of 0 to 255.\n",
        "\n",
        "We require the data to be on a scale of 0 to 1 for training the model."
      ]
    },
    {
      "cell_type": "markdown",
      "metadata": {
        "id": "QpOOaARQ4i-R"
      },
      "source": [
        "**Part 4:** Normalizing the data"
      ]
    },
    {
      "cell_type": "code",
      "metadata": {
        "id": "lRa0cbSb3oK9"
      },
      "source": [
        "x_train = tf.keras.utils.normalize(x_train, axis=1)\n",
        "x_test = tf.keras.utils.normalize(x_test, axis=1)"
      ],
      "execution_count": 6,
      "outputs": []
    },
    {
      "cell_type": "code",
      "metadata": {
        "id": "uwy2Z3C34yKR",
        "outputId": "5605da0a-6658-4375-ec6c-dce1c70483fc",
        "colab": {
          "base_uri": "https://localhost:8080/"
        }
      },
      "source": [
        "x_train[23085]"
      ],
      "execution_count": 7,
      "outputs": [
        {
          "output_type": "execute_result",
          "data": {
            "text/plain": [
              "array([[0.        , 0.        , 0.        , 0.        , 0.        ,\n",
              "        0.        , 0.        , 0.        , 0.        , 0.        ,\n",
              "        0.        , 0.        , 0.        , 0.        , 0.        ,\n",
              "        0.        , 0.        , 0.        , 0.        , 0.        ,\n",
              "        0.        , 0.        , 0.        , 0.        , 0.        ,\n",
              "        0.        , 0.        , 0.        ],\n",
              "       [0.        , 0.        , 0.        , 0.        , 0.        ,\n",
              "        0.        , 0.        , 0.        , 0.        , 0.        ,\n",
              "        0.        , 0.        , 0.        , 0.        , 0.        ,\n",
              "        0.        , 0.        , 0.        , 0.        , 0.        ,\n",
              "        0.        , 0.        , 0.        , 0.        , 0.        ,\n",
              "        0.        , 0.        , 0.        ],\n",
              "       [0.        , 0.        , 0.        , 0.        , 0.        ,\n",
              "        0.        , 0.        , 0.        , 0.        , 0.        ,\n",
              "        0.        , 0.        , 0.        , 0.        , 0.        ,\n",
              "        0.        , 0.        , 0.        , 0.        , 0.        ,\n",
              "        0.        , 0.        , 0.        , 0.        , 0.        ,\n",
              "        0.        , 0.        , 0.        ],\n",
              "       [0.        , 0.        , 0.        , 0.        , 0.        ,\n",
              "        0.        , 0.        , 0.        , 0.        , 0.        ,\n",
              "        0.        , 0.        , 0.        , 0.        , 0.        ,\n",
              "        0.        , 0.        , 0.        , 0.        , 0.        ,\n",
              "        0.        , 0.        , 0.        , 0.        , 0.        ,\n",
              "        0.        , 0.        , 0.        ],\n",
              "       [0.        , 0.        , 0.        , 0.        , 0.        ,\n",
              "        0.        , 0.        , 0.        , 0.        , 0.        ,\n",
              "        0.        , 0.        , 0.        , 0.        , 0.        ,\n",
              "        0.        , 0.        , 0.        , 0.        , 0.        ,\n",
              "        0.        , 0.        , 0.        , 0.        , 0.        ,\n",
              "        0.        , 0.        , 0.        ],\n",
              "       [0.        , 0.        , 0.        , 0.        , 0.        ,\n",
              "        0.        , 0.        , 0.        , 0.        , 0.        ,\n",
              "        0.        , 0.        , 0.        , 0.26413379, 0.29800113,\n",
              "        0.2369887 , 0.        , 0.        , 0.        , 0.        ,\n",
              "        0.        , 0.        , 0.        , 0.        , 0.        ,\n",
              "        0.        , 0.        , 0.        ],\n",
              "       [0.        , 0.        , 0.        , 0.        , 0.        ,\n",
              "        0.        , 0.        , 0.        , 0.        , 0.        ,\n",
              "        0.        , 0.        , 0.06131988, 0.26519456, 0.29566386,\n",
              "        0.23570768, 0.        , 0.        , 0.        , 0.        ,\n",
              "        0.        , 0.        , 0.25007493, 0.37883596, 0.19529485,\n",
              "        0.        , 0.        , 0.        ],\n",
              "       [0.        , 0.        , 0.        , 0.        , 0.        ,\n",
              "        0.        , 0.        , 0.        , 0.        , 0.        ,\n",
              "        0.        , 0.00657288, 0.20480841, 0.2683769 , 0.29566386,\n",
              "        0.23570768, 0.        , 0.        , 0.        , 0.        ,\n",
              "        0.04316473, 0.35404605, 0.55698507, 0.70474631, 0.89730067,\n",
              "        0.        , 0.        , 0.        ],\n",
              "       [0.        , 0.        , 0.        , 0.        , 0.        ,\n",
              "        0.        , 0.        , 0.        , 0.        , 0.        ,\n",
              "        0.01153454, 0.18404062, 0.3102786 , 0.2683769 , 0.27345986,\n",
              "        0.0896714 , 0.        , 0.        , 0.        , 0.        ,\n",
              "        0.18519061, 0.45935205, 0.57517234, 0.59610953, 0.39586794,\n",
              "        0.        , 0.        , 0.        ],\n",
              "       [0.        , 0.        , 0.        , 0.        , 0.        ,\n",
              "        0.        , 0.        , 0.        , 0.        , 0.0128742 ,\n",
              "        0.20041264, 0.33258768, 0.3102786 , 0.2683769 , 0.16945162,\n",
              "        0.        , 0.        , 0.        , 0.        , 0.13135393,\n",
              "        0.34671025, 0.45935205, 0.47968918, 0.06685341, 0.        ,\n",
              "        0.        , 0.        , 0.        ],\n",
              "       [0.        , 0.        , 0.        , 0.        , 0.        ,\n",
              "        0.        , 0.        , 0.        , 0.        , 0.10138436,\n",
              "        0.36477984, 0.33258768, 0.3102786 , 0.19094009, 0.01285495,\n",
              "        0.        , 0.        , 0.        , 0.0197034 , 0.31061341,\n",
              "        0.35227989, 0.45935205, 0.25007493, 0.        , 0.        ,\n",
              "        0.        , 0.        , 0.        ],\n",
              "       [0.        , 0.        , 0.        , 0.        , 0.        ,\n",
              "        0.        , 0.        , 0.        , 0.19218107, 0.36047773,\n",
              "        0.36477984, 0.33258768, 0.3102786 , 0.00636467, 0.        ,\n",
              "        0.        , 0.        , 0.0249188 , 0.32838996, 0.39097111,\n",
              "        0.35227989, 0.38128036, 0.06138203, 0.        , 0.        ,\n",
              "        0.        , 0.        , 0.        ],\n",
              "       [0.        , 0.        , 0.        , 0.        , 0.        ,\n",
              "        0.        , 0.        , 0.08850681, 0.39994439, 0.40714672,\n",
              "        0.36477984, 0.24582568, 0.08952703, 0.00106078, 0.        ,\n",
              "        0.        , 0.        , 0.04651509, 0.4154133 , 0.39097111,\n",
              "        0.35227989, 0.06717797, 0.        , 0.        , 0.        ,\n",
              "        0.        , 0.        , 0.        ],\n",
              "       [0.        , 0.        , 0.        , 0.        , 0.        ,\n",
              "        0.        , 0.        , 0.30555921, 0.43803433, 0.40714672,\n",
              "        0.36477984, 0.20375925, 0.11037579, 0.23761433, 0.20801647,\n",
              "        0.16397056, 0.33258761, 0.38208827, 0.4154133 , 0.39097111,\n",
              "        0.35227989, 0.06173111, 0.        , 0.        , 0.        ,\n",
              "        0.        , 0.        , 0.        ],\n",
              "       [0.        , 0.        , 0.        , 0.        , 0.        ,\n",
              "        0.        , 0.48202271, 0.52682623, 0.43803433, 0.40714672,\n",
              "        0.36477984, 0.33258768, 0.3102786 , 0.2683769 , 0.29566386,\n",
              "        0.32409805, 0.37068135, 0.4202971 , 0.4154133 , 0.39097111,\n",
              "        0.35227989, 0.12890907, 0.        , 0.        , 0.        ,\n",
              "        0.        , 0.        , 0.        ],\n",
              "       [0.        , 0.        , 0.        , 0.        , 0.        ,\n",
              "        0.        , 0.59248625, 0.53314814, 0.43803433, 0.40714672,\n",
              "        0.36477984, 0.33258768, 0.3102786 , 0.2683769 , 0.29566386,\n",
              "        0.32409805, 0.37068135, 0.4202971 , 0.4154133 , 0.39097111,\n",
              "        0.35227989, 0.26144939, 0.        , 0.        , 0.        ,\n",
              "        0.        , 0.        , 0.        ],\n",
              "       [0.        , 0.        , 0.        , 0.        , 0.        ,\n",
              "        0.        , 0.59248625, 0.53314814, 0.43803433, 0.40714672,\n",
              "        0.36477984, 0.31155447, 0.27716587, 0.23973589, 0.12036908,\n",
              "        0.28566745, 0.37068135, 0.4202971 , 0.41377135, 0.34924692,\n",
              "        0.3146848 , 0.05446862, 0.        , 0.        , 0.        ,\n",
              "        0.        , 0.        , 0.        ],\n",
              "       [0.        , 0.        , 0.        , 0.        , 0.        ,\n",
              "        0.        , 0.25607457, 0.22969623, 0.18871835, 0.17541104,\n",
              "        0.15715811, 0.05784134, 0.        , 0.        , 0.06076886,\n",
              "        0.29847765, 0.37068135, 0.39371704, 0.17404668, 0.        ,\n",
              "        0.        , 0.        , 0.        , 0.        , 0.        ,\n",
              "        0.        , 0.        , 0.        ],\n",
              "       [0.        , 0.        , 0.        , 0.        , 0.        ,\n",
              "        0.        , 0.        , 0.        , 0.        , 0.        ,\n",
              "        0.        , 0.        , 0.        , 0.        , 0.1834752 ,\n",
              "        0.32409805, 0.37068135, 0.37544325, 0.        , 0.        ,\n",
              "        0.        , 0.        , 0.        , 0.        , 0.        ,\n",
              "        0.        , 0.        , 0.        ],\n",
              "       [0.        , 0.        , 0.        , 0.        , 0.        ,\n",
              "        0.        , 0.        , 0.        , 0.        , 0.        ,\n",
              "        0.        , 0.        , 0.        , 0.04773502, 0.27813438,\n",
              "        0.32409805, 0.37068135, 0.15781907, 0.        , 0.        ,\n",
              "        0.        , 0.        , 0.        , 0.        , 0.        ,\n",
              "        0.        , 0.        , 0.        ],\n",
              "       [0.        , 0.        , 0.        , 0.        , 0.        ,\n",
              "        0.        , 0.        , 0.        , 0.        , 0.        ,\n",
              "        0.        , 0.        , 0.        , 0.243979  , 0.29566386,\n",
              "        0.32409805, 0.24321385, 0.01993504, 0.        , 0.        ,\n",
              "        0.        , 0.        , 0.        , 0.        , 0.        ,\n",
              "        0.        , 0.        , 0.        ],\n",
              "       [0.        , 0.        , 0.        , 0.        , 0.        ,\n",
              "        0.        , 0.        , 0.        , 0.        , 0.        ,\n",
              "        0.        , 0.        , 0.12754535, 0.26731612, 0.29566386,\n",
              "        0.30232071, 0.07618747, 0.        , 0.        , 0.        ,\n",
              "        0.        , 0.        , 0.        , 0.        , 0.        ,\n",
              "        0.        , 0.        , 0.        ],\n",
              "       [0.        , 0.        , 0.        , 0.        , 0.        ,\n",
              "        0.        , 0.        , 0.        , 0.        , 0.        ,\n",
              "        0.        , 0.14197419, 0.26612829, 0.2683769 , 0.27930302,\n",
              "        0.1024816 , 0.        , 0.        , 0.        , 0.        ,\n",
              "        0.        , 0.        , 0.        , 0.        , 0.        ,\n",
              "        0.        , 0.        , 0.        ],\n",
              "       [0.        , 0.        , 0.        , 0.        , 0.        ,\n",
              "        0.        , 0.        , 0.        , 0.        , 0.        ,\n",
              "        0.03171999, 0.2826338 , 0.3102786 , 0.2683769 , 0.17763204,\n",
              "        0.        , 0.        , 0.        , 0.        , 0.        ,\n",
              "        0.        , 0.        , 0.        , 0.        , 0.        ,\n",
              "        0.        , 0.        , 0.        ],\n",
              "       [0.        , 0.        , 0.        , 0.        , 0.        ,\n",
              "        0.        , 0.        , 0.        , 0.        , 0.        ,\n",
              "        0.05046361, 0.33258768, 0.3102786 , 0.2683769 , 0.03155306,\n",
              "        0.        , 0.        , 0.        , 0.        , 0.        ,\n",
              "        0.        , 0.        , 0.        , 0.        , 0.        ,\n",
              "        0.        , 0.        , 0.        ],\n",
              "       [0.        , 0.        , 0.        , 0.        , 0.        ,\n",
              "        0.        , 0.        , 0.        , 0.        , 0.        ,\n",
              "        0.        , 0.        , 0.        , 0.        , 0.        ,\n",
              "        0.        , 0.        , 0.        , 0.        , 0.        ,\n",
              "        0.        , 0.        , 0.        , 0.        , 0.        ,\n",
              "        0.        , 0.        , 0.        ],\n",
              "       [0.        , 0.        , 0.        , 0.        , 0.        ,\n",
              "        0.        , 0.        , 0.        , 0.        , 0.        ,\n",
              "        0.        , 0.        , 0.        , 0.        , 0.        ,\n",
              "        0.        , 0.        , 0.        , 0.        , 0.        ,\n",
              "        0.        , 0.        , 0.        , 0.        , 0.        ,\n",
              "        0.        , 0.        , 0.        ],\n",
              "       [0.        , 0.        , 0.        , 0.        , 0.        ,\n",
              "        0.        , 0.        , 0.        , 0.        , 0.        ,\n",
              "        0.        , 0.        , 0.        , 0.        , 0.        ,\n",
              "        0.        , 0.        , 0.        , 0.        , 0.        ,\n",
              "        0.        , 0.        , 0.        , 0.        , 0.        ,\n",
              "        0.        , 0.        , 0.        ]])"
            ]
          },
          "metadata": {
            "tags": []
          },
          "execution_count": 7
        }
      ]
    },
    {
      "cell_type": "markdown",
      "metadata": {
        "id": "2lqLbRVG43oz"
      },
      "source": [
        "**Part 5:** Creating a CNN Model"
      ]
    },
    {
      "cell_type": "code",
      "metadata": {
        "id": "NgDGwtEv42Cd"
      },
      "source": [
        "# Feed Forward Model\n",
        "model = tf.keras.models.Sequential()\n",
        "\n",
        "# 1st Dense Layer - relu: for raw output greater than 0\n",
        "model.add(tf.keras.layers.Dense(128, activation=tf.nn.relu))\n",
        "\n",
        "# 2nd Dense Layer\n",
        "model.add(tf.keras.layers.Dense(128, activation=tf.nn.relu))\n",
        "\n",
        "# Convert the data from 28x28 to 1x784\n",
        "model.add(tf.keras.layers.Flatten())\n",
        "\n",
        "# Final Dense Layer - softmax: for probability distribution\n",
        "model.add(tf.keras.layers.Dense(10, activation=tf.nn.softmax))"
      ],
      "execution_count": 9,
      "outputs": []
    },
    {
      "cell_type": "markdown",
      "metadata": {
        "id": "PigNLTfT9tp_"
      },
      "source": [
        "**Part 6:** Training the model"
      ]
    },
    {
      "cell_type": "code",
      "metadata": {
        "id": "S7OK4hKJ9Rpd",
        "outputId": "48c3861b-3c4f-436c-b00d-b0d9194b6c77",
        "colab": {
          "base_uri": "https://localhost:8080/"
        }
      },
      "source": [
        "# Compile the model \n",
        "model.compile(optimizer='adam', loss='sparse_categorical_crossentropy', metrics=['accuracy'])\n",
        "\n",
        "# Fit the model\n",
        "model.fit(x_train, y_train, epochs=10)"
      ],
      "execution_count": 10,
      "outputs": [
        {
          "output_type": "stream",
          "text": [
            "Epoch 1/10\n",
            "1875/1875 [==============================] - 11s 6ms/step - loss: 0.2504 - accuracy: 0.9270\n",
            "Epoch 2/10\n",
            "1875/1875 [==============================] - 11s 6ms/step - loss: 0.1160 - accuracy: 0.9650\n",
            "Epoch 3/10\n",
            "1875/1875 [==============================] - 11s 6ms/step - loss: 0.0941 - accuracy: 0.9708\n",
            "Epoch 4/10\n",
            "1875/1875 [==============================] - 12s 6ms/step - loss: 0.0813 - accuracy: 0.9744\n",
            "Epoch 5/10\n",
            "1875/1875 [==============================] - 12s 6ms/step - loss: 0.0707 - accuracy: 0.9782\n",
            "Epoch 6/10\n",
            "1875/1875 [==============================] - 11s 6ms/step - loss: 0.0619 - accuracy: 0.9806\n",
            "Epoch 7/10\n",
            "1875/1875 [==============================] - 11s 6ms/step - loss: 0.0547 - accuracy: 0.9824\n",
            "Epoch 8/10\n",
            "1875/1875 [==============================] - 11s 6ms/step - loss: 0.0485 - accuracy: 0.9848\n",
            "Epoch 9/10\n",
            "1875/1875 [==============================] - 11s 6ms/step - loss: 0.0424 - accuracy: 0.9864\n",
            "Epoch 10/10\n",
            "1875/1875 [==============================] - 11s 6ms/step - loss: 0.0372 - accuracy: 0.9876\n"
          ],
          "name": "stdout"
        },
        {
          "output_type": "execute_result",
          "data": {
            "text/plain": [
              "<tensorflow.python.keras.callbacks.History at 0x7f718944b550>"
            ]
          },
          "metadata": {
            "tags": []
          },
          "execution_count": 10
        }
      ]
    },
    {
      "cell_type": "code",
      "metadata": {
        "id": "8ouweowj-3SD",
        "outputId": "58af817f-2be6-41f7-c553-156c1bba8550",
        "colab": {
          "base_uri": "https://localhost:8080/"
        }
      },
      "source": [
        "loss, accuracy = model.evaluate(x_test, y_test)\n",
        "\n",
        "print(\"Accuracy = \", round(accuracy*100, 2), \"%\")\n",
        "print(\"Loss = \", round(loss*100, 2), \"%\")"
      ],
      "execution_count": 11,
      "outputs": [
        {
          "output_type": "stream",
          "text": [
            "313/313 [==============================] - 1s 3ms/step - loss: 0.0944 - accuracy: 0.9733\n",
            "Accuracy =  97.33 %\n",
            "Loss =  9.44 %\n"
          ],
          "name": "stdout"
        }
      ]
    },
    {
      "cell_type": "markdown",
      "metadata": {
        "id": "H3ydyTWmAUso"
      },
      "source": [
        "**Part 7:** Prediction of the data"
      ]
    },
    {
      "cell_type": "code",
      "metadata": {
        "id": "D9ePgP2G_FL9"
      },
      "source": [
        "prediction = model.predict(x_test)"
      ],
      "execution_count": 12,
      "outputs": []
    },
    {
      "cell_type": "code",
      "metadata": {
        "id": "xbtimRzoAhHC",
        "outputId": "ca534360-81e4-424d-95c3-bcdcc0692726",
        "colab": {
          "base_uri": "https://localhost:8080/"
        }
      },
      "source": [
        "print(\"Test dataset is limited to 0-10000 images.\")\n",
        "n = input(\"Enter the index no.: \")\n",
        "n = int(n)"
      ],
      "execution_count": 16,
      "outputs": [
        {
          "output_type": "stream",
          "text": [
            "Test dataset is limited to 0-10000 images.\n",
            "Enter the index no.: 84\n"
          ],
          "name": "stdout"
        }
      ]
    },
    {
      "cell_type": "code",
      "metadata": {
        "id": "4fhNJhD7_xIZ",
        "outputId": "77803425-53b4-42bf-b5cd-b9ea6230c1b3",
        "colab": {
          "base_uri": "https://localhost:8080/",
          "height": 282
        }
      },
      "source": [
        "print(\"The image looks like this:\")\n",
        "plt.imshow(x_test[n], cmap=plt.cm.binary)\n",
        "plt.show()"
      ],
      "execution_count": 17,
      "outputs": [
        {
          "output_type": "stream",
          "text": [
            "The image looks like this:\n"
          ],
          "name": "stdout"
        },
        {
          "output_type": "display_data",
          "data": {
            "image/png": "[encoded data removed]",
            "text/plain": [
              "<Figure size 432x288 with 1 Axes>"
            ]
          },
          "metadata": {
            "tags": [],
            "needs_background": "light"
          }
        }
      ]
    },
    {
      "cell_type": "code",
      "metadata": {
        "id": "MBkVAOBm_18O",
        "outputId": "53b106e6-637a-4729-a1f6-e8e87bf69211",
        "colab": {
          "base_uri": "https://localhost:8080/"
        }
      },
      "source": [
        "result = np.argmax(prediction[n])\n",
        "print(\"The model predicted the above image as\", result)"
      ],
      "execution_count": 18,
      "outputs": [
        {
          "output_type": "stream",
          "text": [
            "The model predicted the above image as 8\n"
          ],
          "name": "stdout"
        }
      ]
    },
    {
      "cell_type": "markdown",
      "metadata": {
        "id": "md6nCb8CGCyy"
      },
      "source": [
        "========= End of File ========="
      ]
    }
  ]
}